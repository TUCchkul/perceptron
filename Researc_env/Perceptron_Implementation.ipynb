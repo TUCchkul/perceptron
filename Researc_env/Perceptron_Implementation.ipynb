{
 "cells": [
  {
   "cell_type": "code",
   "execution_count": 52,
   "id": "d47e04d0",
   "metadata": {},
   "outputs": [],
   "source": [
    "import os\n",
    "import matplotlib.pyplot as plt\n",
    "#!pip install joblib\n",
    "import joblib\n",
    "import numpy as np\n",
    "import pandas as pd\n",
    "plt.style.use(\"fivethirtyeight\")"
   ]
  },
  {
   "cell_type": "code",
   "execution_count": 71,
   "id": "01daa964",
   "metadata": {},
   "outputs": [],
   "source": [
    "class Perceptron:\n",
    "    def __init__(self, eta:float=None,epochs:int=None):\n",
    "        self.weights=np.random.randn(3)*1e-4\n",
    "        self.eta=eta#learning rate\n",
    "        self.epochs=epochs#iterations\n",
    "    def _z_outcome(self, inputs,weights):\n",
    "        return np.dot(inputs,weights)\n",
    "    def activation_function(self,z):\n",
    "        return np.where(z>0,1,0)\n",
    "    def fit(self, X, y):\n",
    "        self.X=X\n",
    "        self.y=y\n",
    "        \n",
    "        X_with_bias=np.c_[self.X, -np.ones((len(self.X),1))]\n",
    "        print(f\"X_with bias:\\n{X_with_bias}\")\n",
    "        for epoch in range(self.epochs):\n",
    "            z=self._z_outcome(X_with_bias, self.weights)\n",
    "            print(f\"Z is:\\n{z}\")\n",
    "            y_hat=self.activation_function(z)\n",
    "            #print(f\"y:\\n{y}\")\n",
    "            print(f\"y_hat:\\n{y_hat}\")\n",
    "            self.error=self.y-y_hat\n",
    "            print(f\"Error:\\n{self.error}\")\n",
    "            self.weights=self.weights+self.eta*np.dot(X_with_bias.T,self.error)\n",
    "            print(f\"Updated weights after epochs:{epoch+1}/{self.epochs}:\\n{self.weights}\")\n",
    "    def predict(self, X):\n",
    "        X_with_bias=np.c_[X,-np.ones((len(X),1))]\n",
    "        z=self._z_outcome(X_with_bias, self.weights)\n",
    "        print(f\"Prediction of z:\\n{z}\")\n",
    "        return self.activation_function(z)\n",
    "        \n",
    "            \n",
    "            \n",
    "    "
   ]
  },
  {
   "cell_type": "code",
   "execution_count": 72,
   "id": "7ab9249b",
   "metadata": {},
   "outputs": [
    {
     "data": {
      "text/html": [
       "<div>\n",
       "<style scoped>\n",
       "    .dataframe tbody tr th:only-of-type {\n",
       "        vertical-align: middle;\n",
       "    }\n",
       "\n",
       "    .dataframe tbody tr th {\n",
       "        vertical-align: top;\n",
       "    }\n",
       "\n",
       "    .dataframe thead th {\n",
       "        text-align: right;\n",
       "    }\n",
       "</style>\n",
       "<table border=\"1\" class=\"dataframe\">\n",
       "  <thead>\n",
       "    <tr style=\"text-align: right;\">\n",
       "      <th></th>\n",
       "      <th>x1</th>\n",
       "      <th>x2</th>\n",
       "      <th>y</th>\n",
       "    </tr>\n",
       "  </thead>\n",
       "  <tbody>\n",
       "    <tr>\n",
       "      <th>0</th>\n",
       "      <td>0</td>\n",
       "      <td>0</td>\n",
       "      <td>0</td>\n",
       "    </tr>\n",
       "    <tr>\n",
       "      <th>1</th>\n",
       "      <td>0</td>\n",
       "      <td>1</td>\n",
       "      <td>1</td>\n",
       "    </tr>\n",
       "    <tr>\n",
       "      <th>2</th>\n",
       "      <td>1</td>\n",
       "      <td>0</td>\n",
       "      <td>1</td>\n",
       "    </tr>\n",
       "    <tr>\n",
       "      <th>3</th>\n",
       "      <td>1</td>\n",
       "      <td>1</td>\n",
       "      <td>1</td>\n",
       "    </tr>\n",
       "  </tbody>\n",
       "</table>\n",
       "</div>"
      ],
      "text/plain": [
       "   x1  x2  y\n",
       "0   0   0  0\n",
       "1   0   1  1\n",
       "2   1   0  1\n",
       "3   1   1  1"
      ]
     },
     "execution_count": 72,
     "metadata": {},
     "output_type": "execute_result"
    }
   ],
   "source": [
    "\n",
    "OR={\"x1\":[0,0,1,1],\n",
    "   \"x2\":[0,1,0,1],\n",
    "   \"y\":[0,1,1,1]}\n",
    "df_OR=pd.DataFrame(OR)\n",
    "df_OR"
   ]
  },
  {
   "cell_type": "code",
   "execution_count": 73,
   "id": "0b4bce53",
   "metadata": {},
   "outputs": [],
   "source": [
    "\n",
    "def prepare_data(df, target_col=\"y\"):\n",
    "    X=df.drop(target_col, axis=1)\n",
    "    y=df[target_col]\n",
    "    return X,y"
   ]
  },
  {
   "cell_type": "code",
   "execution_count": 76,
   "id": "7bf032d6",
   "metadata": {},
   "outputs": [
    {
     "data": {
      "text/html": [
       "<div>\n",
       "<style scoped>\n",
       "    .dataframe tbody tr th:only-of-type {\n",
       "        vertical-align: middle;\n",
       "    }\n",
       "\n",
       "    .dataframe tbody tr th {\n",
       "        vertical-align: top;\n",
       "    }\n",
       "\n",
       "    .dataframe thead th {\n",
       "        text-align: right;\n",
       "    }\n",
       "</style>\n",
       "<table border=\"1\" class=\"dataframe\">\n",
       "  <thead>\n",
       "    <tr style=\"text-align: right;\">\n",
       "      <th></th>\n",
       "      <th>x1</th>\n",
       "      <th>x2</th>\n",
       "      <th>y</th>\n",
       "    </tr>\n",
       "  </thead>\n",
       "  <tbody>\n",
       "    <tr>\n",
       "      <th>0</th>\n",
       "      <td>0</td>\n",
       "      <td>0</td>\n",
       "      <td>0</td>\n",
       "    </tr>\n",
       "    <tr>\n",
       "      <th>1</th>\n",
       "      <td>0</td>\n",
       "      <td>1</td>\n",
       "      <td>0</td>\n",
       "    </tr>\n",
       "    <tr>\n",
       "      <th>2</th>\n",
       "      <td>1</td>\n",
       "      <td>0</td>\n",
       "      <td>0</td>\n",
       "    </tr>\n",
       "    <tr>\n",
       "      <th>3</th>\n",
       "      <td>1</td>\n",
       "      <td>1</td>\n",
       "      <td>1</td>\n",
       "    </tr>\n",
       "  </tbody>\n",
       "</table>\n",
       "</div>"
      ],
      "text/plain": [
       "   x1  x2  y\n",
       "0   0   0  0\n",
       "1   0   1  0\n",
       "2   1   0  0\n",
       "3   1   1  1"
      ]
     },
     "execution_count": 76,
     "metadata": {},
     "output_type": "execute_result"
    }
   ],
   "source": [
    "AND={\"x1\":[0,0,1,1],\n",
    "    \"x2\":[0,1,0,1],\n",
    "    \"y\":[0,0,0,1]}\n",
    "df_AND=pd.DataFrame(AND)\n",
    "df_AND"
   ]
  },
  {
   "cell_type": "code",
   "execution_count": 77,
   "id": "dae7b54a",
   "metadata": {},
   "outputs": [
    {
     "name": "stdout",
     "output_type": "stream",
     "text": [
      "X_with bias:\n",
      "[[ 0.  0. -1.]\n",
      " [ 0.  1. -1.]\n",
      " [ 1.  0. -1.]\n",
      " [ 1.  1. -1.]]\n",
      "Z is:\n",
      "[6.19423137e-05 5.93186310e-06 1.05910714e-04 4.99002636e-05]\n",
      "y_hat:\n",
      "[1 1 1 1]\n",
      "Error:\n",
      "0   -1\n",
      "1   -1\n",
      "2   -1\n",
      "3    0\n",
      "Name: y, dtype: int64\n",
      "Updated weights after epochs:1/10:\n",
      "[-0.09995603 -0.10005601  0.29993806]\n",
      "Z is:\n",
      "[-0.29993806 -0.39999407 -0.39989409 -0.4999501 ]\n",
      "y_hat:\n",
      "[0 0 0 0]\n",
      "Error:\n",
      "0    0\n",
      "1    0\n",
      "2    0\n",
      "3    1\n",
      "Name: y, dtype: int64\n",
      "Updated weights after epochs:2/10:\n",
      "[ 4.39684005e-05 -5.60104506e-05  1.99938058e-01]\n",
      "Z is:\n",
      "[-0.19993806 -0.19999407 -0.19989409 -0.1999501 ]\n",
      "y_hat:\n",
      "[0 0 0 0]\n",
      "Error:\n",
      "0    0\n",
      "1    0\n",
      "2    0\n",
      "3    1\n",
      "Name: y, dtype: int64\n",
      "Updated weights after epochs:3/10:\n",
      "[0.10004397 0.09994399 0.09993806]\n",
      "Z is:\n",
      "[-9.99380577e-02  5.93186310e-06  1.05910714e-04  1.00049900e-01]\n",
      "y_hat:\n",
      "[0 1 1 1]\n",
      "Error:\n",
      "0    0\n",
      "1   -1\n",
      "2   -1\n",
      "3    0\n",
      "Name: y, dtype: int64\n",
      "Updated weights after epochs:4/10:\n",
      "[ 4.39684005e-05 -5.60104506e-05  2.99938058e-01]\n",
      "Z is:\n",
      "[-0.29993806 -0.29999407 -0.29989409 -0.2999501 ]\n",
      "y_hat:\n",
      "[0 0 0 0]\n",
      "Error:\n",
      "0    0\n",
      "1    0\n",
      "2    0\n",
      "3    1\n",
      "Name: y, dtype: int64\n",
      "Updated weights after epochs:5/10:\n",
      "[0.10004397 0.09994399 0.19993806]\n",
      "Z is:\n",
      "[-1.99938058e-01 -9.99940681e-02 -9.98940893e-02  4.99002636e-05]\n",
      "y_hat:\n",
      "[0 0 0 1]\n",
      "Error:\n",
      "0    0\n",
      "1    0\n",
      "2    0\n",
      "3    0\n",
      "Name: y, dtype: int64\n",
      "Updated weights after epochs:6/10:\n",
      "[0.10004397 0.09994399 0.19993806]\n",
      "Z is:\n",
      "[-1.99938058e-01 -9.99940681e-02 -9.98940893e-02  4.99002636e-05]\n",
      "y_hat:\n",
      "[0 0 0 1]\n",
      "Error:\n",
      "0    0\n",
      "1    0\n",
      "2    0\n",
      "3    0\n",
      "Name: y, dtype: int64\n",
      "Updated weights after epochs:7/10:\n",
      "[0.10004397 0.09994399 0.19993806]\n",
      "Z is:\n",
      "[-1.99938058e-01 -9.99940681e-02 -9.98940893e-02  4.99002636e-05]\n",
      "y_hat:\n",
      "[0 0 0 1]\n",
      "Error:\n",
      "0    0\n",
      "1    0\n",
      "2    0\n",
      "3    0\n",
      "Name: y, dtype: int64\n",
      "Updated weights after epochs:8/10:\n",
      "[0.10004397 0.09994399 0.19993806]\n",
      "Z is:\n",
      "[-1.99938058e-01 -9.99940681e-02 -9.98940893e-02  4.99002636e-05]\n",
      "y_hat:\n",
      "[0 0 0 1]\n",
      "Error:\n",
      "0    0\n",
      "1    0\n",
      "2    0\n",
      "3    0\n",
      "Name: y, dtype: int64\n",
      "Updated weights after epochs:9/10:\n",
      "[0.10004397 0.09994399 0.19993806]\n",
      "Z is:\n",
      "[-1.99938058e-01 -9.99940681e-02 -9.98940893e-02  4.99002636e-05]\n",
      "y_hat:\n",
      "[0 0 0 1]\n",
      "Error:\n",
      "0    0\n",
      "1    0\n",
      "2    0\n",
      "3    0\n",
      "Name: y, dtype: int64\n",
      "Updated weights after epochs:10/10:\n",
      "[0.10004397 0.09994399 0.19993806]\n"
     ]
    }
   ],
   "source": [
    "X,y=prepare_data(df_AND)\n",
    "ETA=0.1\n",
    "EPOCHS=10\n",
    "model_or=Perceptron(eta=ETA,epochs=EPOCHS)\n",
    "model_or.fit(X,y)\n"
   ]
  },
  {
   "cell_type": "code",
   "execution_count": 36,
   "id": "d8e7ec3b",
   "metadata": {},
   "outputs": [
    {
     "data": {
      "text/plain": [
       "0    0\n",
       "1    1\n",
       "2    1\n",
       "3    1\n",
       "Name: y, dtype: int64"
      ]
     },
     "execution_count": 36,
     "metadata": {},
     "output_type": "execute_result"
    }
   ],
   "source": [
    "y"
   ]
  },
  {
   "cell_type": "code",
   "execution_count": null,
   "id": "026803cd",
   "metadata": {},
   "outputs": [],
   "source": []
  },
  {
   "cell_type": "code",
   "execution_count": null,
   "id": "83885602",
   "metadata": {},
   "outputs": [],
   "source": []
  },
  {
   "cell_type": "code",
   "execution_count": 17,
   "id": "f23febd1",
   "metadata": {},
   "outputs": [
    {
     "data": {
      "text/plain": [
       "array([-6.40690608e-06, -1.61858204e-04,  1.10793268e-04])"
      ]
     },
     "execution_count": 17,
     "metadata": {},
     "output_type": "execute_result"
    }
   ],
   "source": [
    "obj.weights"
   ]
  },
  {
   "cell_type": "code",
   "execution_count": 21,
   "id": "3a4c0218",
   "metadata": {},
   "outputs": [
    {
     "name": "stdout",
     "output_type": "stream",
     "text": [
      "X_with bias:\n",
      "[[ 1.  1. -1.]\n",
      " [ 1.  1. -1.]\n",
      " [ 1.  1. -1.]\n",
      " [ 1.  1. -1.]]\n"
     ]
    }
   ],
   "source": [
    "obj.fit(X,y)"
   ]
  },
  {
   "cell_type": "code",
   "execution_count": 11,
   "id": "d0e55490",
   "metadata": {},
   "outputs": [
    {
     "data": {
      "text/plain": [
       "array([[ 1.,  1., -1.],\n",
       "       [ 1.,  1., -1.],\n",
       "       [ 1.,  1., -1.],\n",
       "       [ 1.,  1., -1.]])"
      ]
     },
     "execution_count": 11,
     "metadata": {},
     "output_type": "execute_result"
    }
   ],
   "source": [
    "np.c_[X, -np.ones((4,1))]"
   ]
  },
  {
   "cell_type": "code",
   "execution_count": 23,
   "id": "b867556d",
   "metadata": {},
   "outputs": [
    {
     "data": {
      "text/plain": [
       "array([[1.],\n",
       "       [1.],\n",
       "       [1.],\n",
       "       [1.]])"
      ]
     },
     "execution_count": 23,
     "metadata": {},
     "output_type": "execute_result"
    }
   ],
   "source": [
    "np.ones((4,1))"
   ]
  },
  {
   "cell_type": "code",
   "execution_count": null,
   "id": "fa29c8b2",
   "metadata": {},
   "outputs": [],
   "source": [
    "np.c_[X, -np.ones((4,1))]"
   ]
  },
  {
   "cell_type": "code",
   "execution_count": 24,
   "id": "01dc9d3e",
   "metadata": {},
   "outputs": [
    {
     "data": {
      "text/plain": [
       "array([ 2.45397184e-05, -4.68636428e-05,  1.34638918e-04])"
      ]
     },
     "execution_count": 24,
     "metadata": {},
     "output_type": "execute_result"
    }
   ],
   "source": [
    "np.random.randn(3)*1e-4"
   ]
  },
  {
   "cell_type": "code",
   "execution_count": 25,
   "id": "ee5df3e8",
   "metadata": {},
   "outputs": [
    {
     "data": {
      "text/plain": [
       "array([-1.64961068e-05, -1.64961068e-05, -1.64961068e-05, -1.64961068e-05])"
      ]
     },
     "execution_count": 25,
     "metadata": {},
     "output_type": "execute_result"
    }
   ],
   "source": [
    "np.dot(np.c_[X, -np.ones((4,1))],np.random.randn(3)*1e-4)"
   ]
  },
  {
   "cell_type": "code",
   "execution_count": 26,
   "id": "6955cf4b",
   "metadata": {},
   "outputs": [
    {
     "data": {
      "text/plain": [
       "array([[ 1.,  1.,  1.,  1.],\n",
       "       [ 1.,  1.,  1.,  1.],\n",
       "       [-1., -1., -1., -1.]])"
      ]
     },
     "execution_count": 26,
     "metadata": {},
     "output_type": "execute_result"
    }
   ],
   "source": [
    "np.c_[X, -np.ones((4,1))].T"
   ]
  },
  {
   "cell_type": "code",
   "execution_count": 27,
   "id": "ce0afe6c",
   "metadata": {},
   "outputs": [
    {
     "data": {
      "text/plain": [
       "array([[ 1.,  1., -1.],\n",
       "       [ 1.,  1., -1.],\n",
       "       [ 1.,  1., -1.],\n",
       "       [ 1.,  1., -1.]])"
      ]
     },
     "execution_count": 27,
     "metadata": {},
     "output_type": "execute_result"
    }
   ],
   "source": [
    "np.c_[X, -np.ones((4,1))]"
   ]
  },
  {
   "cell_type": "code",
   "execution_count": null,
   "id": "955972e6",
   "metadata": {},
   "outputs": [],
   "source": []
  }
 ],
 "metadata": {
  "kernelspec": {
   "display_name": "Python 3 (ipykernel)",
   "language": "python",
   "name": "python3"
  },
  "language_info": {
   "codemirror_mode": {
    "name": "ipython",
    "version": 3
   },
   "file_extension": ".py",
   "mimetype": "text/x-python",
   "name": "python",
   "nbconvert_exporter": "python",
   "pygments_lexer": "ipython3",
   "version": "3.7.0"
  }
 },
 "nbformat": 4,
 "nbformat_minor": 5
}
